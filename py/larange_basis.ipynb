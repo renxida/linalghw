{
 "cells": [
  {
   "cell_type": "code",
   "execution_count": 47,
   "metadata": {
    "collapsed": false
   },
   "outputs": [],
   "source": [
    "from sympy import *\n",
    "from sympy.abc import *\n",
    "\n",
    "def larange_polynomial(c, i):\n",
    "    ret = 1\n",
    "    for j in range(len(c)):\n",
    "        if i != j:\n",
    "            ret *= (x-c[j])/(c[i] - c[j])\n",
    "    return latex(expand(ret))\n",
    "\n",
    "def larange_basis(c):\n",
    "    ret = dict()\n",
    "    ret = {\n",
    "        i: larange_polynomial(c, i)\n",
    "        for i in range(len(c))\n",
    "    }\n",
    "    return ret"
   ]
  },
  {
   "cell_type": "code",
   "execution_count": 48,
   "metadata": {
    "collapsed": false
   },
   "outputs": [
    {
     "name": "stdout",
     "output_type": "stream",
     "text": [
      "f_0 &= - \\frac{x^{3}}{6} + x^{2} - \\frac{11 x}{6} + 1\\\\\n",
      "f_1 &= \\frac{x^{3}}{2} - \\frac{5 x^{2}}{2} + 3 x\\\\\n",
      "f_2 &= - \\frac{x^{3}}{2} + 2 x^{2} - \\frac{3 x}{2}\\\\\n",
      "f_3 &= \\frac{x^{3}}{6} - \\frac{x^{2}}{2} + \\frac{x}{3}\\\\\n"
     ]
    }
   ],
   "source": [
    "for k, v in larange_basis([0,1,2,3]).items():\n",
    "    print(\"f_{} &= {}\\\\\\\\\".format( k, v))"
   ]
  },
  {
   "cell_type": "code",
   "execution_count": 40,
   "metadata": {
    "collapsed": false
   },
   "outputs": [
    {
     "data": {
      "text/plain": [
       "{0: '\\\\left(- 3 x + 9\\\\right) \\\\left(- 2 x + 4\\\\right) \\\\left(- x + 1\\\\right)',\n",
       " 1: 'x \\\\left(- 2 x + 6\\\\right) \\\\left(- x + 2\\\\right)',\n",
       " 2: '2 x \\\\left(- x + 3\\\\right) \\\\left(x - 1\\\\right)',\n",
       " 3: '3 x \\\\left(x - 2\\\\right) \\\\left(2 x - 2\\\\right)'}"
      ]
     },
     "execution_count": 40,
     "metadata": {},
     "output_type": "execute_result"
    }
   ],
   "source": [
    "larange_basis([0,1,2,3])"
   ]
  },
  {
   "cell_type": "code",
   "execution_count": null,
   "metadata": {
    "collapsed": true
   },
   "outputs": [],
   "source": []
  }
 ],
 "metadata": {
  "kernelspec": {
   "display_name": "Python 3",
   "language": "python",
   "name": "python3"
  },
  "language_info": {
   "codemirror_mode": {
    "name": "ipython",
    "version": 3
   },
   "file_extension": ".py",
   "mimetype": "text/x-python",
   "name": "python",
   "nbconvert_exporter": "python",
   "pygments_lexer": "ipython3",
   "version": "3.6.0"
  }
 },
 "nbformat": 4,
 "nbformat_minor": 2
}
